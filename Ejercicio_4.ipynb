{
 "cells": [
  {
   "cell_type": "markdown",
   "metadata": {},
   "source": [
    "# Ejericio 5\n",
    "\n",
    "Usaremos el script eval.py con los modelos ya entrenados guardados en la carpeta trainedModels:"
   ]
  },
  {
   "cell_type": "code",
   "execution_count": 1,
   "metadata": {},
   "outputs": [
    {
     "name": "stdout",
     "output_type": "stream",
     "text": [
      "Evaulate a tagger.\n",
      "\n",
      "Usage:\n",
      "  eval.py [options] -c <path> -i <file>\n",
      "  eval.py -h | --help\n",
      "\n",
      "Options:\n",
      "  -c <path>     Ancora corpus path.\n",
      "  -i <file>     Tagging model file.\n",
      "  -p            Show progress bar.\n",
      "  -m            Show confusion matrix.\n",
      "  -g            Show confusion matrix with github markdown.\n",
      "\n",
      "  -h --help     Show this screen.\n"
     ]
    }
   ],
   "source": [
    "%run tagging/scripts/eval.py --help"
   ]
  },
  {
   "cell_type": "code",
   "execution_count": 8,
   "metadata": {},
   "outputs": [
    {
     "name": "stdout",
     "output_type": "stream",
     "text": [
      "\u001b[31mMNBclass\u001b[m\u001b[m \u001b[31mSVMclass\u001b[m\u001b[m \u001b[31mlogR\u001b[m\u001b[m\n"
     ]
    }
   ],
   "source": [
    "!ls trainedModels"
   ]
  },
  {
   "cell_type": "markdown",
   "metadata": {},
   "source": [
    "## Logistic regression"
   ]
  },
  {
   "cell_type": "code",
   "execution_count": 9,
   "metadata": {},
   "outputs": [
    {
     "name": "stderr",
     "output_type": "stream",
     "text": [
      "/Users/rodri/anaconda/anaconda3/lib/python3.6/site-packages/sklearn/base.py:311: UserWarning: Trying to unpickle estimator DictVectorizer from version 0.21.2 when using version 0.19.1. This might lead to breaking code or invalid results. Use at your own risk.\n",
      "  UserWarning)\n",
      "/Users/rodri/anaconda/anaconda3/lib/python3.6/site-packages/sklearn/base.py:311: UserWarning: Trying to unpickle estimator LogisticRegression from version 0.21.2 when using version 0.19.1. This might lead to breaking code or invalid results. Use at your own risk.\n",
      "  UserWarning)\n",
      "/Users/rodri/anaconda/anaconda3/lib/python3.6/site-packages/sklearn/base.py:311: UserWarning: Trying to unpickle estimator Pipeline from version 0.21.2 when using version 0.19.1. This might lead to breaking code or invalid results. Use at your own risk.\n",
      "  UserWarning)\n"
     ]
    },
    {
     "name": "stdout",
     "output_type": "stream",
     "text": [
      "Evaluation time 3.307827949523926\n",
      "\n",
      "Accuracy: 91.69% / 95.01% / 61.68% (total / known / unk)\n",
      "\n",
      "g \\ m\tsp000\tnc0s000\tda0000\taq0000\tfc\tnc0p000\trg\tnp00000\tfp\tcc\n",
      "sp000\t14.26\t0.01\t-\t0.05\t-\t-\t0.01\t0.00\t-\t-\t\n",
      "nc0s000\t0.00\t11.89\t0.01\t0.52\t-\t0.02\t0.02\t0.09\t-\t-\t\n",
      "da0000\t-\t0.11\t9.50\t0.01\t-\t0.01\t-\t0.01\t-\t-\t\n",
      "aq0000\t0.00\t0.51\t-\t6.43\t-\t0.17\t0.01\t0.06\t-\t-\t\n",
      "fc\t-\t-\t-\t-\t5.85\t-\t-\t-\t-\t-\t\n",
      "nc0p000\t-\t0.35\t-\t0.46\t-\t4.61\t-\t0.04\t-\t-\t\n",
      "rg\t0.02\t0.04\t0.00\t0.39\t-\t0.00\t3.11\t0.03\t-\t0.02\t\n",
      "np00000\t-\t0.22\t-\t0.08\t-\t0.01\t-\t3.24\t-\t0.00\t\n",
      "fp\t-\t-\t-\t-\t-\t-\t-\t-\t3.55\t-\t\n",
      "cc\t0.00\t0.00\t-\t0.01\t-\t0.00\t0.05\t0.00\t-\t3.34\t\n"
     ]
    }
   ],
   "source": [
    "%run tagging/scripts/eval.py -c ancora-3.0.1es -i trainedModels/logR -m"
   ]
  },
  {
   "cell_type": "markdown",
   "metadata": {},
   "source": [
    "## Vector machine"
   ]
  },
  {
   "cell_type": "code",
   "execution_count": 10,
   "metadata": {},
   "outputs": [
    {
     "name": "stderr",
     "output_type": "stream",
     "text": [
      "/Users/rodri/anaconda/anaconda3/lib/python3.6/site-packages/sklearn/base.py:311: UserWarning: Trying to unpickle estimator DictVectorizer from version 0.21.2 when using version 0.19.1. This might lead to breaking code or invalid results. Use at your own risk.\n",
      "  UserWarning)\n",
      "/Users/rodri/anaconda/anaconda3/lib/python3.6/site-packages/sklearn/base.py:311: UserWarning: Trying to unpickle estimator LinearSVC from version 0.21.2 when using version 0.19.1. This might lead to breaking code or invalid results. Use at your own risk.\n",
      "  UserWarning)\n",
      "/Users/rodri/anaconda/anaconda3/lib/python3.6/site-packages/sklearn/base.py:311: UserWarning: Trying to unpickle estimator Pipeline from version 0.21.2 when using version 0.19.1. This might lead to breaking code or invalid results. Use at your own risk.\n",
      "  UserWarning)\n"
     ]
    },
    {
     "name": "stdout",
     "output_type": "stream",
     "text": [
      "Evaluation time 3.8424458503723145\n",
      "\n",
      "Accuracy: 94.11% / 97.57% / 62.76% (total / known / unk)\n",
      "\n",
      "g \\ m\tsp000\tnc0s000\tda0000\taq0000\tfc\tnc0p000\trg\tnp00000\tfp\tcc\n",
      "sp000\t14.30\t0.00\t-\t0.03\t-\t-\t0.00\t-\t-\t-\t\n",
      "nc0s000\t0.00\t12.09\t0.01\t0.33\t-\t0.02\t0.02\t0.08\t-\t0.00\t\n",
      "da0000\t-\t0.08\t9.53\t-\t-\t0.00\t-\t0.00\t-\t-\t\n",
      "aq0000\t0.00\t0.34\t-\t6.61\t-\t0.15\t0.01\t0.05\t-\t-\t\n",
      "fc\t-\t-\t-\t-\t5.85\t-\t-\t-\t-\t-\t\n",
      "nc0p000\t-\t0.25\t-\t0.31\t-\t4.90\t-\t0.04\t-\t-\t\n",
      "rg\t0.02\t0.02\t0.00\t0.21\t-\t0.01\t3.35\t0.01\t-\t0.02\t\n",
      "np00000\t0.00\t0.21\t-\t0.08\t-\t0.01\t-\t3.26\t-\t0.00\t\n",
      "fp\t-\t-\t-\t-\t-\t-\t-\t-\t3.55\t-\t\n",
      "cc\t0.00\t-\t-\t0.01\t-\t-\t0.05\t0.00\t-\t3.34\t\n"
     ]
    }
   ],
   "source": [
    "%run tagging/scripts/eval.py -c ancora-3.0.1es -i trainedModels/SVMclass -m"
   ]
  },
  {
   "cell_type": "markdown",
   "metadata": {},
   "source": [
    "## Naive bayes"
   ]
  },
  {
   "cell_type": "code",
   "execution_count": 11,
   "metadata": {},
   "outputs": [
    {
     "name": "stderr",
     "output_type": "stream",
     "text": [
      "/Users/rodri/anaconda/anaconda3/lib/python3.6/site-packages/sklearn/base.py:311: UserWarning: Trying to unpickle estimator DictVectorizer from version 0.21.2 when using version 0.19.1. This might lead to breaking code or invalid results. Use at your own risk.\n",
      "  UserWarning)\n",
      "/Users/rodri/anaconda/anaconda3/lib/python3.6/site-packages/sklearn/base.py:311: UserWarning: Trying to unpickle estimator MultinomialNB from version 0.21.2 when using version 0.19.1. This might lead to breaking code or invalid results. Use at your own risk.\n",
      "  UserWarning)\n",
      "/Users/rodri/anaconda/anaconda3/lib/python3.6/site-packages/sklearn/base.py:311: UserWarning: Trying to unpickle estimator Pipeline from version 0.21.2 when using version 0.19.1. This might lead to breaking code or invalid results. Use at your own risk.\n",
      "  UserWarning)\n"
     ]
    },
    {
     "name": "stdout",
     "output_type": "stream",
     "text": [
      "Evaluation time 182.94684600830078\n",
      "\n",
      "Accuracy: 84.28% / 88.07% / 49.99% (total / known / unk)\n",
      "\n",
      "g \\ m\tsp000\tnc0s000\tda0000\taq0000\tfc\tnc0p000\trg\tnp00000\tfp\tcc\n",
      "sp000\t14.31\t-\t0.01\t0.00\t0.00\t0.00\t0.00\t0.00\t-\t-\t\n",
      "nc0s000\t0.05\t12.05\t0.07\t0.09\t0.02\t0.01\t0.00\t0.29\t-\t0.00\t\n",
      "da0000\t0.00\t0.14\t9.52\t0.00\t0.00\t0.00\t-\t0.01\t-\t-\t\n",
      "aq0000\t0.22\t0.88\t0.19\t5.11\t0.14\t0.23\t0.01\t0.40\t0.00\t0.01\t\n",
      "fc\t0.00\t-\t-\t-\t5.85\t-\t-\t0.00\t-\t-\t\n",
      "nc0p000\t0.06\t0.28\t0.17\t0.07\t0.02\t4.64\t0.00\t0.26\t-\t0.00\t\n",
      "rg\t0.20\t0.17\t0.08\t0.14\t0.04\t0.01\t2.77\t0.23\t-\t0.02\t\n",
      "np00000\t0.03\t0.27\t0.05\t0.00\t0.00\t0.01\t0.00\t3.21\t-\t-\t\n",
      "fp\t0.00\t-\t-\t-\t-\t-\t-\t-\t3.55\t-\t\n",
      "cc\t0.01\t0.00\t0.00\t-\t-\t0.00\t0.05\t0.05\t-\t3.29\t\n"
     ]
    }
   ],
   "source": [
    "%run tagging/scripts/eval.py -c ancora-3.0.1es -i trainedModels/MNBclass -m"
   ]
  },
  {
   "cell_type": "markdown",
   "metadata": {},
   "source": [
    "## 2.3. Análisis de Errores"
   ]
  },
  {
   "cell_type": "markdown",
   "metadata": {},
   "source": [
    "El script de evaluación eval.py calcula variables útiles para hacer análisis de errores:\n",
    "\n",
    "- **error_count:** matriz de confusión completa.\n",
    "- **error_sents:** matriz de índices de las oraciones en las que ocurre cada error.\n",
    "\n",
    "Por ejemplo, podemos ver algunas oraciones en las que el tagger confunde nombre propio con nombre común:"
   ]
  },
  {
   "cell_type": "code",
   "execution_count": 12,
   "metadata": {},
   "outputs": [
    {
     "data": {
      "text/plain": [
       "256"
      ]
     },
     "execution_count": 12,
     "metadata": {},
     "output_type": "execute_result"
    }
   ],
   "source": [
    "error_count['np00000']['nc0s000']  # / total da 2.05%"
   ]
  },
  {
   "cell_type": "code",
   "execution_count": 13,
   "metadata": {},
   "outputs": [
    {
     "data": {
      "text/plain": [
       "[4, 6, 9, 29, 47, 48, 49, 51, 55, 59]"
      ]
     },
     "execution_count": 13,
     "metadata": {},
     "output_type": "execute_result"
    }
   ],
   "source": [
    "sorted(error_sents['np00000']['nc0s000'])[:10]"
   ]
  },
  {
   "cell_type": "markdown",
   "metadata": {},
   "source": [
    "Veamos la primer oración:"
   ]
  },
  {
   "cell_type": "code",
   "execution_count": 14,
   "metadata": {},
   "outputs": [
    {
     "data": {
      "text/plain": [
       "[('Durante', 'sp000'),\n",
       " ('la', 'da0000'),\n",
       " ('presentación', 'nc0s000'),\n",
       " ('del', 'sp000'),\n",
       " ('libro', 'nc0s000'),\n",
       " ('\"', 'fe'),\n",
       " ('La_prosperidad_por_medio_de_la_investigación_._La_investigación_básica_en_EEUU',\n",
       "  'np00000'),\n",
       " ('\"', 'fe'),\n",
       " (',', 'fc'),\n",
       " ('editado', 'aq0000')]"
      ]
     },
     "execution_count": 14,
     "metadata": {},
     "output_type": "execute_result"
    }
   ],
   "source": [
    "sent = sents[4]\n",
    "words, tags = zip(*sent)  # separar las palabras de los tags\n",
    "sent[:10]"
   ]
  },
  {
   "cell_type": "code",
   "execution_count": 15,
   "metadata": {},
   "outputs": [
    {
     "data": {
      "text/plain": [
       "array(['sp000', 'da0000', 'nc0s000', 'sp000', 'nc0s000', 'fe', 'nc0s000',\n",
       "       'fe', 'fc', 'np00000'], dtype='<U8')"
      ]
     },
     "execution_count": 15,
     "metadata": {},
     "output_type": "execute_result"
    }
   ],
   "source": [
    "model.tag(words[:10])"
   ]
  },
  {
   "cell_type": "code",
   "execution_count": 16,
   "metadata": {},
   "outputs": [
    {
     "data": {
      "text/plain": [
       "True"
      ]
     },
     "execution_count": 16,
     "metadata": {},
     "output_type": "execute_result"
    }
   ],
   "source": [
    "model.unknown('La_prosperidad_por_medio_de_la_investigación_._La_investigación_básica_en_EEUU')"
   ]
  },
  {
   "cell_type": "markdown",
   "metadata": {},
   "source": [
    "Es claro que el tagger se puede mejorar para palabras desconocidas mirando características como el uso de mayúsculas y también de caracteres no estándar del inglés (e.g. letras acentuadas)."
   ]
  }
 ],
 "metadata": {
  "kernelspec": {
   "display_name": "Python 3",
   "language": "python",
   "name": "python3"
  },
  "language_info": {
   "codemirror_mode": {
    "name": "ipython",
    "version": 3
   },
   "file_extension": ".py",
   "mimetype": "text/x-python",
   "name": "python",
   "nbconvert_exporter": "python",
   "pygments_lexer": "ipython3",
   "version": "3.6.4"
  }
 },
 "nbformat": 4,
 "nbformat_minor": 2
}
